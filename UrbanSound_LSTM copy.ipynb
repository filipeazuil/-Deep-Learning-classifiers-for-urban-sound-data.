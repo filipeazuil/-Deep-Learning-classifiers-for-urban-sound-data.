{
 "cells": [
  {
   "cell_type": "markdown",
   "metadata": {},
   "source": [
    "# Urban Sound RNN Classification"
   ]
  },
  {
   "cell_type": "markdown",
   "metadata": {},
   "source": [
    "### Introduction\n",
    "\n",
    "This Jupyter notebook was created by Filipe Barros, Gonçalo Arrobas and João Barão for the Machine Learning II.\n",
    "\n",
    "### Authorship\n",
    "\n",
    "Author: Filipe Barros, Gonçalo Arrobas and João Barão\n",
    "University: Faculty of Science from University of Porto\n",
    "Course: Machine Learning II\n",
    "Sound Classification Problem\n",
    "\n",
    "For this project, the students were tasked with the development of a deed learning model for audio classification. The data from the UrbanSound8K dataset was used throughout the development of this project. This dataset contains a total of 8732 labeled audio recordings of urban sounds, each with a duration of up to four seconds. Each excerpts has been labeled with one of the following classes:\n",
    "\n",
    "0 = air_conditioner\n",
    "\n",
    "1 = car_horn\n",
    "\n",
    "2 = children_playing\n",
    "\n",
    "3 = dog_bark\n",
    "\n",
    "4 = drilling\n",
    "\n",
    "5 = engine_idling\n",
    "\n",
    "6 = gun_shot\n",
    "\n",
    "7 = jackhammer\n",
    "\n",
    "8 = siren\n",
    "\n",
    "9 = street_music\n",
    "\n",
    "The objective of this project relies on defining, compiling, training and evaluating two Deep Learning (DL) classifiers. The DL model types to be considered are:\n",
    "\n",
    "Multilayer Perceptron (MLP)\n",
    "Convolutional Neural Network (CNN)\n",
    "Recurrent Neural Network (RNN)"
   ]
  },
  {
   "cell_type": "markdown",
   "metadata": {},
   "source": [
    "### Import Statements"
   ]
  },
  {
   "cell_type": "code",
   "execution_count": 66,
   "metadata": {},
   "outputs": [],
   "source": [
    "import os\n",
    "import numpy as np\n",
    "import pandas as pd\n",
    "import librosa\n",
    "import matplotlib.pyplot as plt\n",
    "import seaborn as sns\n",
    "import tensorflow as tf\n",
    "from sklearn.model_selection import train_test_split, StratifiedKFold\n",
    "from sklearn.preprocessing import LabelEncoder, StandardScaler, MinMaxScaler\n",
    "from sklearn.metrics import classification_report, confusion_matrix, ConfusionMatrixDisplay\n",
    "from sklearn.utils.class_weight import compute_class_weight\n",
    "from imblearn.over_sampling import SMOTE\n",
    "from tensorflow.keras import Sequential\n",
    "from tensorflow.keras.models import Sequential\n",
    "from tensorflow.keras.layers import LSTM, GRU, Dense, Dropout, Bidirectional, Conv2D, MaxPooling2D, GlobalAveragePooling2D, SpatialDropout2D, Flatten, BatchNormalization, LeakyReLU\n",
    "from tensorflow.keras.optimizers import Adam, RMSprop, Nadam, SGD\n",
    "from tensorflow.keras.callbacks import EarlyStopping, LearningRateScheduler\n",
    "from tensorflow.keras.regularizers import l2\n",
    "from tensorflow.keras.utils import to_categorical\n",
    "import keras_tuner as kt\n",
    "import keras.backend as keras_backend\n",
    "import matplotlib.image as mpimg\n",
    "from keras_tuner.tuners import Hyperband"
   ]
  },
  {
   "cell_type": "markdown",
   "metadata": {},
   "source": [
    "### Data Analysis"
   ]
  },
  {
   "cell_type": "code",
   "execution_count": 67,
   "metadata": {},
   "outputs": [
    {
     "name": "stdout",
     "output_type": "stream",
     "text": [
      "Loading CSV file UrbanSound8K.csv\n"
     ]
    },
    {
     "data": {
      "text/html": [
       "<div>\n",
       "<style scoped>\n",
       "    .dataframe tbody tr th:only-of-type {\n",
       "        vertical-align: middle;\n",
       "    }\n",
       "\n",
       "    .dataframe tbody tr th {\n",
       "        vertical-align: top;\n",
       "    }\n",
       "\n",
       "    .dataframe thead th {\n",
       "        text-align: right;\n",
       "    }\n",
       "</style>\n",
       "<table border=\"1\" class=\"dataframe\">\n",
       "  <thead>\n",
       "    <tr style=\"text-align: right;\">\n",
       "      <th></th>\n",
       "      <th>slice_file_name</th>\n",
       "      <th>fsID</th>\n",
       "      <th>start</th>\n",
       "      <th>end</th>\n",
       "      <th>salience</th>\n",
       "      <th>fold</th>\n",
       "      <th>classID</th>\n",
       "      <th>class</th>\n",
       "    </tr>\n",
       "  </thead>\n",
       "  <tbody>\n",
       "    <tr>\n",
       "      <th>0</th>\n",
       "      <td>100032-3-0-0.wav</td>\n",
       "      <td>100032</td>\n",
       "      <td>0.0</td>\n",
       "      <td>0.317551</td>\n",
       "      <td>1</td>\n",
       "      <td>5</td>\n",
       "      <td>3</td>\n",
       "      <td>dog_bark</td>\n",
       "    </tr>\n",
       "    <tr>\n",
       "      <th>1</th>\n",
       "      <td>100263-2-0-117.wav</td>\n",
       "      <td>100263</td>\n",
       "      <td>58.5</td>\n",
       "      <td>62.500000</td>\n",
       "      <td>1</td>\n",
       "      <td>5</td>\n",
       "      <td>2</td>\n",
       "      <td>children_playing</td>\n",
       "    </tr>\n",
       "    <tr>\n",
       "      <th>2</th>\n",
       "      <td>100263-2-0-121.wav</td>\n",
       "      <td>100263</td>\n",
       "      <td>60.5</td>\n",
       "      <td>64.500000</td>\n",
       "      <td>1</td>\n",
       "      <td>5</td>\n",
       "      <td>2</td>\n",
       "      <td>children_playing</td>\n",
       "    </tr>\n",
       "    <tr>\n",
       "      <th>3</th>\n",
       "      <td>100263-2-0-126.wav</td>\n",
       "      <td>100263</td>\n",
       "      <td>63.0</td>\n",
       "      <td>67.000000</td>\n",
       "      <td>1</td>\n",
       "      <td>5</td>\n",
       "      <td>2</td>\n",
       "      <td>children_playing</td>\n",
       "    </tr>\n",
       "    <tr>\n",
       "      <th>4</th>\n",
       "      <td>100263-2-0-137.wav</td>\n",
       "      <td>100263</td>\n",
       "      <td>68.5</td>\n",
       "      <td>72.500000</td>\n",
       "      <td>1</td>\n",
       "      <td>5</td>\n",
       "      <td>2</td>\n",
       "      <td>children_playing</td>\n",
       "    </tr>\n",
       "  </tbody>\n",
       "</table>\n",
       "</div>"
      ],
      "text/plain": [
       "      slice_file_name    fsID  start        end  salience  fold  classID  \\\n",
       "0    100032-3-0-0.wav  100032    0.0   0.317551         1     5        3   \n",
       "1  100263-2-0-117.wav  100263   58.5  62.500000         1     5        2   \n",
       "2  100263-2-0-121.wav  100263   60.5  64.500000         1     5        2   \n",
       "3  100263-2-0-126.wav  100263   63.0  67.000000         1     5        2   \n",
       "4  100263-2-0-137.wav  100263   68.5  72.500000         1     5        2   \n",
       "\n",
       "              class  \n",
       "0          dog_bark  \n",
       "1  children_playing  \n",
       "2  children_playing  \n",
       "3  children_playing  \n",
       "4  children_playing  "
      ]
     },
     "execution_count": 67,
     "metadata": {},
     "output_type": "execute_result"
    }
   ],
   "source": [
    "print(\"Loading CSV file {}\".format('UrbanSound8K.csv'))\n",
    "\n",
    "# Load metadata as a Pandas dataframe\n",
    "metadata = pd.read_csv('UrbanSound8K.csv')\n",
    "\n",
    "# Examine dataframe's head\n",
    "metadata.head()"
   ]
  },
  {
   "cell_type": "markdown",
   "metadata": {},
   "source": [
    "#### Class Distribution"
   ]
  },
  {
   "cell_type": "code",
   "execution_count": 68,
   "metadata": {},
   "outputs": [
    {
     "data": {
      "text/plain": [
       "class\n",
       "dog_bark            1000\n",
       "children_playing    1000\n",
       "air_conditioner     1000\n",
       "street_music        1000\n",
       "engine_idling       1000\n",
       "jackhammer          1000\n",
       "drilling            1000\n",
       "siren                929\n",
       "car_horn             429\n",
       "gun_shot             374\n",
       "Name: count, dtype: int64"
      ]
     },
     "execution_count": 68,
     "metadata": {},
     "output_type": "execute_result"
    }
   ],
   "source": [
    "metadata['class'].value_counts()"
   ]
  },
  {
   "cell_type": "code",
   "execution_count": 69,
   "metadata": {},
   "outputs": [],
   "source": [
    "# Inicializar listas vazias para carregar os dados\n",
    "X_folds = []\n",
    "y_folds = []\n",
    "X_folds_aug = []\n",
    "y_folds_aug = []\n",
    "\n",
    "\n",
    "le = LabelEncoder()\n",
    "\n",
    "# Carregar e plotar cada fold\n",
    "for i in range(10):\n",
    "    X_fold_aug = np.load(f'fold{i + 1}_features_augmented.npy', allow_pickle=True)\n",
    "    y_fold_aug = np.load(f'fold{i + 1}_labels_augmented.npy', allow_pickle=True)\n",
    "    X_fold = np.load(f'fold{i + 1}features.npy', allow_pickle=True)\n",
    "    y_fold = np.load(f'fold{i + 1}labels.npy', allow_pickle=True)\n",
    "\n",
    "    scalers = {}\n",
    "    scalers_aug = {}\n",
    "    for i in range(X_fold.shape[1]):\n",
    "        scalers[i] = StandardScaler()\n",
    "        X_fold[:, i, :] = scalers[i].fit_transform(X_fold[:, i, :])\n",
    "    for i in range(X_fold_aug.shape[1]):\n",
    "        scalers_aug[i] = StandardScaler()\n",
    "        X_fold_aug[:, i, :] = scalers_aug[i].fit_transform(X_fold_aug[:, i, :])\n",
    "    y_fold = to_categorical(le.fit_transform(y_fold))\n",
    "    y_fold_aug = to_categorical(le.fit_transform(y_fold_aug))\n",
    "\n",
    "    X_folds.append(X_fold)\n",
    "    y_folds.append(y_fold)\n",
    "    X_folds_aug.append(X_fold_aug)\n",
    "    y_folds_aug.append(y_fold_aug)"
   ]
  },
  {
   "cell_type": "markdown",
   "metadata": {},
   "source": [
    "### Model Architecture"
   ]
  },
  {
   "cell_type": "markdown",
   "metadata": {},
   "source": [
    "We chose the Adam optimizer in our work due to its efficiency and effectiveness in handling large datasets and complex models. Adam combines the advantages of two other popular optimizers, AdaGrad and RMSProp, by using adaptive learning rates for each parameter. This helps in faster convergence and reduces the need for manual tuning of learning rates. Additionally, Adam's ability to correct biases in moment estimates, particularly during the initial training phases, makes it well-suited for a wide range of machine learning tasks, improving both training speed and model performance."
   ]
  },
  {
   "cell_type": "code",
   "execution_count": 1,
   "metadata": {},
   "outputs": [],
   "source": [
    "def create_tunable_lstm_model(hp):\n",
    "    model = Sequential()\n",
    "\n",
    "    # Hyperparameter tuning for LSTM units\n",
    "    units = hp.Int('units', min_value=64, max_value=512, step=64)\n",
    "    dense_units = hp.Int('units', min_value=64, max_value=512, step=64)\n",
    "\n",
    "    # Hyperparameter tuning for dropout rate\n",
    "    dropout_rate = hp.Float('dropout_rate', min_value=0.2, max_value=0.5, step=0.1)\n",
    "\n",
    "    # Hyperparameter tuning for L2 regularization\n",
    "    l2_reg = hp.Float('l2_reg', min_value=0.0001, max_value=0.01, sampling='log')\n",
    "\n",
    "    # Bidirectional LSTM layers\n",
    "    model.add(Bidirectional(LSTM(units, return_sequences=True, kernel_regularizer=l2(l2_reg)), input_shape=(40, 174)))\n",
    "    model.add(Dropout(dropout_rate))\n",
    "    \n",
    "    model.add(Bidirectional(LSTM(units // 2, return_sequences=True, kernel_regularizer=l2(l2_reg))))\n",
    "    model.add(Dropout(dropout_rate))\n",
    "    \n",
    "    model.add(Bidirectional(LSTM(units // 4, return_sequences=False, kernel_regularizer=l2(l2_reg))))\n",
    "    model.add(Dropout(dropout_rate))\n",
    "\n",
    "    # Dense layers\n",
    "    model.add(Dense(dense_units, activation='relu', kernel_regularizer=l2(l2_reg)))\n",
    "    model.add(Dropout(dropout_rate))\n",
    "    model.add(Dense(10, activation='softmax'))\n",
    "\n",
    "    # Hyperparameter tuning for optimizer\n",
    "    optimizer_choice = hp.Choice('optimizer', values=['adam', 'rmsprop', 'nadam', 'sgd'])\n",
    "\n",
    "    # Hyperparameter tuning for learning rate\n",
    "    learning_rate = hp.Float('learning_rate', min_value=0.00001, max_value=0.01, sampling='log')\n",
    "\n",
    "    # Define optimizer based on choice\n",
    "    if optimizer_choice == 'adam':\n",
    "        optimizer = Adam(learning_rate=learning_rate)\n",
    "    elif optimizer_choice == 'rmsprop':\n",
    "        optimizer = RMSprop(learning_rate=learning_rate)\n",
    "    elif optimizer_choice == 'nadam':\n",
    "        optimizer = Nadam(learning_rate=learning_rate)\n",
    "    elif optimizer_choice == 'sgd':\n",
    "        optimizer = SGD(learning_rate=learning_rate, momentum=0.9)\n",
    "\n",
    "    # Compile the model\n",
    "    model.compile(\n",
    "        optimizer=optimizer,\n",
    "        loss='categorical_crossentropy',\n",
    "        metrics=['accuracy']\n",
    "    )\n",
    "\n",
    "    return model"
   ]
  },
  {
   "cell_type": "code",
   "execution_count": 71,
   "metadata": {},
   "outputs": [
    {
     "name": "stdout",
     "output_type": "stream",
     "text": [
      "Reloading Tuner from hyperband_dir2/lstm_hyperband_tuning_5/tuner0.json\n"
     ]
    }
   ],
   "source": [
    "early_stopping = EarlyStopping(\n",
    "    monitor='val_loss',  # Metric to monitor; commonly 'val_loss' or 'val_accuracy'\n",
    "    patience=3,          # Number of epochs to wait after no improvement\n",
    "    restore_best_weights=True,  # Restores model weights to the best epoch with the lowest monitored metric\n",
    "    verbose=1            # Print messages when early stopping is triggered\n",
    ")\n",
    "\n",
    "# Define the tuner\n",
    "tuner = Hyperband(\n",
    "    create_tunable_lstm_model,\n",
    "    objective='val_accuracy',\n",
    "    max_epochs=30,\n",
    "    factor=3,\n",
    "    directory='hyperband_dir2',\n",
    "    project_name='lstm_hyperband_tuning_5'\n",
    ")\n",
    "\n",
    "X_val = X_folds[0]\n",
    "y_val = y_folds[0]\n",
    "X_train = np.concatenate([X_folds[j] for j in range(10) if j != 0], axis=0)\n",
    "y_train = np.concatenate([y_folds[j] for j in range(10) if j != 0], axis=0)\n",
    "\n",
    "# Run the tuner search\n",
    "tuner.search(X_train, y_train, epochs=30, validation_data=(X_val, y_val), batch_size=128, callbacks=[early_stopping])\n",
    "\n",
    "# Get the best hyperparameters\n",
    "best_hyperparameters = tuner.get_best_hyperparameters()[0]"
   ]
  },
  {
   "cell_type": "code",
   "execution_count": 72,
   "metadata": {},
   "outputs": [
    {
     "name": "stdout",
     "output_type": "stream",
     "text": [
      "\n",
      "The optimal hyperparameters are:\n",
      "- Units: 192\n",
      "- Dropout Rate: 0.4\n",
      "- L2 Regularization: 0.000991392375288556\n",
      "- Learning Rate: 0.001\n",
      "\n"
     ]
    }
   ],
   "source": [
    "print(f\"\"\"\n",
    "The optimal hyperparameters are:\n",
    "- Units: {best_hyperparameters.get('units')}\n",
    "- Dropout Rate: {best_hyperparameters.get('dropout_rate')}\n",
    "- L2 Regularization: {best_hyperparameters.get('l2_reg')}\n",
    "- Learning Rate: {best_hyperparameters.get('learning_rate')}\n",
    "\"\"\")"
   ]
  },
  {
   "cell_type": "code",
   "execution_count": 73,
   "metadata": {},
   "outputs": [
    {
     "name": "stdout",
     "output_type": "stream",
     "text": [
      "(40, 174)\n"
     ]
    }
   ],
   "source": [
    "print(X_folds[0][0].shape)"
   ]
  },
  {
   "cell_type": "code",
   "execution_count": 74,
   "metadata": {},
   "outputs": [],
   "source": [
    "def create_bidirectional_lstm_model(input_shape=(40,174), units=256, dropout_rate=0.4, l2_reg=0.005):\n",
    "    model = Sequential()\n",
    "    \n",
    "    # First Bidirectional LSTM layer with L2 regularization\n",
    "    model.add(Bidirectional(LSTM(units, return_sequences=True, kernel_regularizer=l2(l2_reg)), input_shape=input_shape))\n",
    "    model.add(Dropout(dropout_rate))\n",
    "\n",
    "    # First Bidirectional LSTM layer with L2 regularization\n",
    "    model.add(Bidirectional(LSTM(units // 2, return_sequences=True, kernel_regularizer=l2(l2_reg)), input_shape=input_shape))\n",
    "    model.add(Dropout(dropout_rate))\n",
    "    \n",
    "    # Second Bidirectional LSTM layer with L2 regularization\n",
    "    model.add(Bidirectional(LSTM(units // 4, return_sequences=False, kernel_regularizer=l2(l2_reg)), input_shape = input_shape))\n",
    "    model.add(Dropout(dropout_rate))\n",
    "    \n",
    "    # Dense layer with L2 regularization\n",
    "    model.add(Dense(128, activation='relu', kernel_regularizer=l2(l2_reg)))\n",
    "    model.add(Dropout(dropout_rate))\n",
    "    \n",
    "    # Output layer for multi-class classification\n",
    "    model.add(Dense(10, activation='softmax'))  # Adjust '10' to the number of classes in your dataset\n",
    "\n",
    "    model.compile(optimizer=Adam(learning_rate=0.0001), loss='categorical_crossentropy', metrics=['accuracy'])\n",
    "\n",
    "    return model\n"
   ]
  },
  {
   "cell_type": "code",
   "execution_count": 75,
   "metadata": {},
   "outputs": [],
   "source": [
    "def plot_graphs(history, y_true, y_pred, class_labels):\n",
    "    # Create a 1x3 grid for subplots\n",
    "    fig, axs = plt.subplots(1, 3, figsize=(18, 4))\n",
    "\n",
    "    # Plot accuracy values\n",
    "    axs[0].plot(history.history['accuracy'])\n",
    "    axs[0].plot(history.history['val_accuracy'])\n",
    "    axs[0].set_title('Model Accuracy')\n",
    "    axs[0].set_ylabel('Accuracy')\n",
    "    axs[0].set_xlabel('Epoch')\n",
    "    axs[0].legend(['Train', 'Validation'], loc='upper left')\n",
    "\n",
    "    # Plot loss values\n",
    "    axs[1].plot(history.history['loss'])\n",
    "    axs[1].plot(history.history['val_loss'])\n",
    "    axs[1].set_title('Model Loss')\n",
    "    axs[1].set_ylabel('Loss')\n",
    "    axs[1].set_xlabel('Epoch')\n",
    "    axs[1].legend(['Train', 'Validation'], loc='upper left')\n",
    "\n",
    "    # Plot confusion matrix\n",
    "    cm = confusion_matrix(y_true, y_pred)\n",
    "    sns.heatmap(cm, annot=True, fmt='d', cmap='Blues', xticklabels=class_labels, yticklabels=class_labels, ax=axs[2])\n",
    "    axs[2].set_title('Confusion Matrix')\n",
    "    axs[2].set_xlabel('Predicted')\n",
    "    axs[2].set_ylabel('True')\n",
    "\n",
    "    # Adjust layout\n",
    "    plt.tight_layout()\n",
    "    plt.show()"
   ]
  },
  {
   "cell_type": "code",
   "execution_count": 76,
   "metadata": {},
   "outputs": [],
   "source": [
    "initial_lr = 0.0001  # Define the base learning rate\n",
    "\n",
    "def lr_schedule(epoch):\n",
    "    if epoch < 5:\n",
    "        return initial_lr  # Use the initial learning rate directly\n",
    "    elif epoch < 15:\n",
    "        return initial_lr * 0.25  # Reduce to 10% of the initial learning rate\n",
    "    elif epoch < 30:\n",
    "        return initial_lr * 0.1  # Reduce to 1% of the initial learning rate\n",
    "    else:\n",
    "        return initial_lr * 0.1\n",
    "\n",
    "lr_scheduler = LearningRateScheduler(lr_schedule)\n",
    "\n",
    "early_stopping = EarlyStopping(\n",
    "    monitor='val_loss',  # Metric to monitor; commonly 'val_loss' or 'val_accuracy'\n",
    "    patience=3,          # Number of epochs to wait after no improvement\n",
    "    restore_best_weights=True,  # Restores model weights to the best epoch with the lowest monitored metric\n",
    "    verbose=1            # Print messages when early stopping is triggered\n",
    ")"
   ]
  },
  {
   "cell_type": "markdown",
   "metadata": {},
   "source": [
    "### Model Analysis and Results"
   ]
  },
  {
   "cell_type": "code",
   "execution_count": 77,
   "metadata": {},
   "outputs": [
    {
     "name": "stdout",
     "output_type": "stream",
     "text": [
      "\n",
      "Training fold 1...\n",
      "Epoch 1/50\n"
     ]
    },
    {
     "name": "stderr",
     "output_type": "stream",
     "text": [
      "/opt/anaconda3/envs/RNN/lib/python3.11/site-packages/keras/src/layers/rnn/bidirectional.py:107: UserWarning: Do not pass an `input_shape`/`input_dim` argument to a layer. When using Sequential models, prefer using an `Input(shape)` object as the first layer in the model instead.\n",
      "  super().__init__(**kwargs)\n"
     ]
    },
    {
     "name": "stdout",
     "output_type": "stream",
     "text": [
      "\u001b[1m55/55\u001b[0m \u001b[32m━━━━━━━━━━━━━━━━━━━━\u001b[0m\u001b[37m\u001b[0m \u001b[1m13s\u001b[0m 192ms/step - accuracy: 0.1520 - loss: 13.1158 - val_accuracy: 0.2579 - val_loss: 11.6590\n",
      "Epoch 2/50\n",
      "\u001b[1m55/55\u001b[0m \u001b[32m━━━━━━━━━━━━━━━━━━━━\u001b[0m\u001b[37m\u001b[0m \u001b[1m12s\u001b[0m 211ms/step - accuracy: 0.2300 - loss: 11.3392 - val_accuracy: 0.2714 - val_loss: 10.0685\n",
      "Epoch 3/50\n",
      "\u001b[1m55/55\u001b[0m \u001b[32m━━━━━━━━━━━━━━━━━━━━\u001b[0m\u001b[37m\u001b[0m \u001b[1m15s\u001b[0m 265ms/step - accuracy: 0.2816 - loss: 9.8421 - val_accuracy: 0.3041 - val_loss: 8.7557\n",
      "Epoch 4/50\n",
      "\u001b[1m55/55\u001b[0m \u001b[32m━━━━━━━━━━━━━━━━━━━━\u001b[0m\u001b[37m\u001b[0m \u001b[1m15s\u001b[0m 272ms/step - accuracy: 0.2944 - loss: 8.5854 - val_accuracy: 0.3367 - val_loss: 7.6173\n",
      "Epoch 5/50\n",
      "\u001b[1m55/55\u001b[0m \u001b[32m━━━━━━━━━━━━━━━━━━━━\u001b[0m\u001b[37m\u001b[0m \u001b[1m15s\u001b[0m 276ms/step - accuracy: 0.3643 - loss: 7.4567 - val_accuracy: 0.4628 - val_loss: 6.5208\n",
      "Epoch 6/50\n",
      "\u001b[1m55/55\u001b[0m \u001b[32m━━━━━━━━━━━━━━━━━━━━\u001b[0m\u001b[37m\u001b[0m \u001b[1m15s\u001b[0m 270ms/step - accuracy: 0.4224 - loss: 6.4641 - val_accuracy: 0.5158 - val_loss: 5.7463\n",
      "Epoch 7/50\n",
      "\u001b[1m55/55\u001b[0m \u001b[32m━━━━━━━━━━━━━━━━━━━━\u001b[0m\u001b[37m\u001b[0m \u001b[1m15s\u001b[0m 272ms/step - accuracy: 0.4722 - loss: 5.7201 - val_accuracy: 0.5214 - val_loss: 5.1033\n",
      "Epoch 8/50\n",
      "\u001b[1m55/55\u001b[0m \u001b[32m━━━━━━━━━━━━━━━━━━━━\u001b[0m\u001b[37m\u001b[0m \u001b[1m15s\u001b[0m 270ms/step - accuracy: 0.5027 - loss: 5.1332 - val_accuracy: 0.5687 - val_loss: 4.6274\n",
      "Epoch 9/50\n",
      "\u001b[1m55/55\u001b[0m \u001b[32m━━━━━━━━━━━━━━━━━━━━\u001b[0m\u001b[37m\u001b[0m \u001b[1m15s\u001b[0m 270ms/step - accuracy: 0.5455 - loss: 4.6085 - val_accuracy: 0.5282 - val_loss: 4.2298\n",
      "Epoch 10/50\n",
      "\u001b[1m55/55\u001b[0m \u001b[32m━━━━━━━━━━━━━━━━━━━━\u001b[0m\u001b[37m\u001b[0m \u001b[1m15s\u001b[0m 270ms/step - accuracy: 0.5855 - loss: 4.1781 - val_accuracy: 0.5495 - val_loss: 3.9415\n",
      "Epoch 11/50\n",
      "\u001b[1m55/55\u001b[0m \u001b[32m━━━━━━━━━━━━━━━━━━━━\u001b[0m\u001b[37m\u001b[0m \u001b[1m15s\u001b[0m 274ms/step - accuracy: 0.6141 - loss: 3.8427 - val_accuracy: 0.6104 - val_loss: 3.6268\n",
      "Epoch 12/50\n",
      "\u001b[1m55/55\u001b[0m \u001b[32m━━━━━━━━━━━━━━━━━━━━\u001b[0m\u001b[37m\u001b[0m \u001b[1m15s\u001b[0m 275ms/step - accuracy: 0.6484 - loss: 3.5289 - val_accuracy: 0.5743 - val_loss: 3.4990\n",
      "Epoch 13/50\n",
      "\u001b[1m55/55\u001b[0m \u001b[32m━━━━━━━━━━━━━━━━━━━━\u001b[0m\u001b[37m\u001b[0m \u001b[1m15s\u001b[0m 273ms/step - accuracy: 0.6694 - loss: 3.2921 - val_accuracy: 0.5552 - val_loss: 3.3049\n",
      "Epoch 14/50\n",
      "\u001b[1m55/55\u001b[0m \u001b[32m━━━━━━━━━━━━━━━━━━━━\u001b[0m\u001b[37m\u001b[0m \u001b[1m15s\u001b[0m 270ms/step - accuracy: 0.6750 - loss: 3.0993 - val_accuracy: 0.5698 - val_loss: 3.2352\n",
      "Epoch 15/50\n",
      "\u001b[1m55/55\u001b[0m \u001b[32m━━━━━━━━━━━━━━━━━━━━\u001b[0m\u001b[37m\u001b[0m \u001b[1m15s\u001b[0m 267ms/step - accuracy: 0.7105 - loss: 2.8825 - val_accuracy: 0.5935 - val_loss: 3.1204\n",
      "Epoch 16/50\n",
      "\u001b[1m55/55\u001b[0m \u001b[32m━━━━━━━━━━━━━━━━━━━━\u001b[0m\u001b[37m\u001b[0m \u001b[1m15s\u001b[0m 273ms/step - accuracy: 0.7388 - loss: 2.7335 - val_accuracy: 0.6002 - val_loss: 2.9599\n",
      "Epoch 17/50\n",
      "\u001b[1m55/55\u001b[0m \u001b[32m━━━━━━━━━━━━━━━━━━━━\u001b[0m\u001b[37m\u001b[0m \u001b[1m15s\u001b[0m 274ms/step - accuracy: 0.7266 - loss: 2.6197 - val_accuracy: 0.5856 - val_loss: 2.8732\n",
      "Epoch 18/50\n",
      "\u001b[1m55/55\u001b[0m \u001b[32m━━━━━━━━━━━━━━━━━━━━\u001b[0m\u001b[37m\u001b[0m \u001b[1m15s\u001b[0m 276ms/step - accuracy: 0.7653 - loss: 2.4587 - val_accuracy: 0.5642 - val_loss: 2.8846\n",
      "Epoch 19/50\n",
      "\u001b[1m55/55\u001b[0m \u001b[32m━━━━━━━━━━━━━━━━━━━━\u001b[0m\u001b[37m\u001b[0m \u001b[1m15s\u001b[0m 275ms/step - accuracy: 0.7630 - loss: 2.3728 - val_accuracy: 0.5225 - val_loss: 2.8860\n",
      "Epoch 20/50\n",
      "\u001b[1m55/55\u001b[0m \u001b[32m━━━━━━━━━━━━━━━━━━━━\u001b[0m\u001b[37m\u001b[0m \u001b[1m15s\u001b[0m 278ms/step - accuracy: 0.7851 - loss: 2.2581 - val_accuracy: 0.6002 - val_loss: 2.7548\n",
      "Epoch 21/50\n",
      "\u001b[1m55/55\u001b[0m \u001b[32m━━━━━━━━━━━━━━━━━━━━\u001b[0m\u001b[37m\u001b[0m \u001b[1m15s\u001b[0m 273ms/step - accuracy: 0.8103 - loss: 2.1638 - val_accuracy: 0.5428 - val_loss: 2.7294\n",
      "Epoch 22/50\n",
      "\u001b[1m55/55\u001b[0m \u001b[32m━━━━━━━━━━━━━━━━━━━━\u001b[0m\u001b[37m\u001b[0m \u001b[1m15s\u001b[0m 279ms/step - accuracy: 0.8149 - loss: 2.0738 - val_accuracy: 0.5676 - val_loss: 2.7018\n",
      "Epoch 23/50\n",
      "\u001b[1m55/55\u001b[0m \u001b[32m━━━━━━━━━━━━━━━━━━━━\u001b[0m\u001b[37m\u001b[0m \u001b[1m15s\u001b[0m 280ms/step - accuracy: 0.8252 - loss: 2.0132 - val_accuracy: 0.5507 - val_loss: 2.6793\n",
      "Epoch 24/50\n",
      "\u001b[1m55/55\u001b[0m \u001b[32m━━━━━━━━━━━━━━━━━━━━\u001b[0m\u001b[37m\u001b[0m \u001b[1m15s\u001b[0m 279ms/step - accuracy: 0.8323 - loss: 1.9366 - val_accuracy: 0.5293 - val_loss: 2.7276\n",
      "Epoch 25/50\n",
      "\u001b[1m55/55\u001b[0m \u001b[32m━━━━━━━━━━━━━━━━━━━━\u001b[0m\u001b[37m\u001b[0m \u001b[1m15s\u001b[0m 271ms/step - accuracy: 0.8265 - loss: 1.8950 - val_accuracy: 0.5135 - val_loss: 2.7356\n",
      "Epoch 26/50\n",
      "\u001b[1m55/55\u001b[0m \u001b[32m━━━━━━━━━━━━━━━━━━━━\u001b[0m\u001b[37m\u001b[0m \u001b[1m15s\u001b[0m 279ms/step - accuracy: 0.8262 - loss: 1.8772 - val_accuracy: 0.5890 - val_loss: 2.5688\n",
      "Epoch 27/50\n",
      "\u001b[1m55/55\u001b[0m \u001b[32m━━━━━━━━━━━━━━━━━━━━\u001b[0m\u001b[37m\u001b[0m \u001b[1m15s\u001b[0m 281ms/step - accuracy: 0.8534 - loss: 1.7718 - val_accuracy: 0.5293 - val_loss: 2.7147\n",
      "Epoch 28/50\n",
      "\u001b[1m55/55\u001b[0m \u001b[32m━━━━━━━━━━━━━━━━━━━━\u001b[0m\u001b[37m\u001b[0m \u001b[1m15s\u001b[0m 278ms/step - accuracy: 0.8590 - loss: 1.7307 - val_accuracy: 0.5709 - val_loss: 2.6627\n",
      "Epoch 29/50\n",
      "\u001b[1m55/55\u001b[0m \u001b[32m━━━━━━━━━━━━━━━━━━━━\u001b[0m\u001b[37m\u001b[0m \u001b[1m16s\u001b[0m 286ms/step - accuracy: 0.8837 - loss: 1.6375 - val_accuracy: 0.5709 - val_loss: 2.6264\n",
      "Epoch 29: early stopping\n",
      "Restoring model weights from the end of the best epoch: 26.\n",
      "\u001b[1m28/28\u001b[0m \u001b[32m━━━━━━━━━━━━━━━━━━━━\u001b[0m\u001b[37m\u001b[0m \u001b[1m1s\u001b[0m 42ms/step\n"
     ]
    },
    {
     "data": {
      "image/png": "[encoded data removed]",
      "text/plain": [
       "<Figure size 1800x400 with 4 Axes>"
      ]
     },
     "metadata": {},
     "output_type": "display_data"
    },
    {
     "name": "stdout",
     "output_type": "stream",
     "text": [
      "Fold 1 Test Accuracy: 0.5647\n",
      "\n",
      "Average Accuracy across 10 folds: 56.4719%\n",
      "Standard Deviation: 0.0000%\n"
     ]
    }
   ],
   "source": [
    "num_folds = 10\n",
    "fold_accuracies = []\n",
    "\n",
    "for i in range(num_folds):\n",
    "    if i<1:\n",
    "        # Define the test and validation indices\n",
    "        test_idx = i\n",
    "        val_idx = (i + 1) % num_folds\n",
    "        \n",
    "        # Split the data accordingly\n",
    "        X_test = X_folds[test_idx]\n",
    "        y_test = y_folds[test_idx]\n",
    "        X_val = X_folds[val_idx]\n",
    "        y_val = y_folds[val_idx]\n",
    "\n",
    "        # Combine the remaining folds for training\n",
    "        X_train = np.concatenate([X_folds[j] for j in range(num_folds) if j != test_idx and j != val_idx], axis=0)\n",
    "        y_train = np.concatenate([y_folds[j] for j in range(num_folds) if j != test_idx and j != val_idx], axis=0)\n",
    "\n",
    "        # Create a new model instance for each fold\n",
    "        model = create_bidirectional_lstm_model()\n",
    "        \n",
    "        # Train the model\n",
    "        print(f\"\\nTraining fold {i + 1}...\")\n",
    "\n",
    "        callbacks = [early_stopping, lr_schedule]\n",
    "\n",
    "        # Use in the model training\n",
    "        history = model.fit(X_train, y_train, \n",
    "                            validation_data=(X_val, y_val),\n",
    "                            epochs=50,\n",
    "                            batch_size=128,\n",
    "                            callbacks=[early_stopping, lr_schedule])\n",
    "\n",
    "\n",
    "        predictions_LSTM = model.predict(X_test)\n",
    "        predicted_labels_LSTM = np.argmax(predictions_LSTM, axis=1)\n",
    "\n",
    "        y_test_multiclass = np.argmax(y_test, axis=1)\n",
    "        \n",
    "        plot_graphs(history, y_test_multiclass, predicted_labels_LSTM, class_labels=['0', '1', '2', '3', '4', '5', '6', '7', '8', '9'])\n",
    "\n",
    "        # Evaluate on the test set\n",
    "        test_loss, test_acc = model.evaluate(X_test, y_test, verbose=0)\n",
    "        print(f\"Fold {i + 1} Test Accuracy: {test_acc:.4f}\")\n",
    "        \n",
    "        # Save the accuracy for later analysis\n",
    "        fold_accuracies.append(test_acc)\n",
    "\n",
    "# Print average accuracy across all folds\n",
    "average_accuracy = np.mean(fold_accuracies)\n",
    "print(f\"\\nAverage Accuracy across {num_folds} folds: {average_accuracy*100:.4f}%\")\n",
    "print(f\"Standard Deviation: {np.std(fold_accuracies)*100:.4f}%\")\n"
   ]
  }
 ],
 "metadata": {
  "kernelspec": {
   "display_name": "RNN",
   "language": "python",
   "name": "python3"
  },
  "language_info": {
   "codemirror_mode": {
    "name": "ipython",
    "version": 3
   },
   "file_extension": ".py",
   "mimetype": "text/x-python",
   "name": "python",
   "nbconvert_exporter": "python",
   "pygments_lexer": "ipython3",
   "version": "3.11.10"
  }
 },
 "nbformat": 4,
 "nbformat_minor": 2
}
